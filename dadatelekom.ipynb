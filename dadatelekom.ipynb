{
 "cells": [
  {
   "cell_type": "code",
   "execution_count": 1,
   "metadata": {
    "collapsed": false
   },
   "outputs": [],
   "source": [
    "import numpy as np\n",
    "import cairocffi as cairo\n",
    "import moviepy.editor as mpy\n",
    "import gizeh as gz\n",
    "import re, random"
   ]
  },
  {
   "cell_type": "code",
   "execution_count": 2,
   "metadata": {
    "collapsed": false
   },
   "outputs": [],
   "source": [
    "words = []\n",
    "regex = re.compile(r\"[^a-zA-Z ]\")\n",
    "f = open('dadablah.txt', 'r')\n",
    "for line in f.readlines():\n",
    "    cl = line.lower().split()\n",
    "    words.extend(cl)\n",
    "bigwords = []\n",
    "for w in words:\n",
    "    w = regex.sub('', w)\n",
    "    if len(w) > 1: \n",
    "        bigwords.append(w)\n",
    "#bigwords"
   ]
  },
  {
   "cell_type": "code",
   "execution_count": 12,
   "metadata": {
    "collapsed": false
   },
   "outputs": [
    {
     "name": "stdout",
     "output_type": "stream",
     "text": [
      "\n",
      "[MoviePy] Building file output.gif with imageio\n"
     ]
    },
    {
     "name": "stderr",
     "output_type": "stream",
     "text": [
      " 96%|█████████▌| 25/26 [00:00<00:00, 73.57it/s]\n"
     ]
    }
   ],
   "source": [
    "W,H = 320,320\n",
    "D = 5\n",
    "\n",
    "# load png and convert to numpy array\n",
    "image_surface = cairo.ImageSurface.create_from_png(\"CanvasByMinimaxDadamax.png\")\n",
    "im = 0+np.frombuffer(image_surface.get_data(), np.uint8)\n",
    "im.shape = (image_surface.get_height(), image_surface.get_width(), 4)\n",
    "im = im[:,:,[2,1,0,3]] # put RGB back in order\n",
    "\n",
    "# gizeh image pattern\n",
    "gizeh_pattern = gz.ImagePattern(im)\n",
    "bg_rect = gz.rectangle(W*2, H*2, fill=gizeh_pattern)\n",
    "\n",
    "start_at = 0\n",
    "fr_timer = 0\n",
    "chunk_len = 4\n",
    "\n",
    "pad = 50\n",
    "x, y = [], []\n",
    "for i in range(0, chunk_len):\n",
    "    x.append(random.randint(pad, W-pad))\n",
    "    y.append(random.randint(pad, H-pad))\n",
    "\n",
    "def make_frame(t):\n",
    "    surface = gz.Surface(W,H, bg_color=(0,0.0,0.0))\n",
    "    bg_rect.draw(surface)\n",
    "    \n",
    "    next_frm = chunk_len * int(t)\n",
    "    chosen = bigwords[next_frm : next_frm + chunk_len]\n",
    "    if t % 1 == 0:\n",
    "        for i in range(0, chunk_len):\n",
    "            x[i] = random.randint(pad, W-pad)\n",
    "            y[i] = random.randint(pad, H-pad)\n",
    "    \n",
    "    t1 = gz.text(chosen[0], \n",
    "                  fontfamily=\"Impact\", fontsize=40,\n",
    "                  fill=(1,1,1), xy=(x[0],y[0]), angle=np.pi/12)\n",
    "    t1.draw(surface)\n",
    "    \n",
    "    t2 = gz.text(chosen[1], \n",
    "                  fontfamily=\"Impact\", fontsize=50,\n",
    "                  fill=(1,1,1), xy=(y[0],x[0]))\n",
    "    t2.draw(surface)\n",
    "    \n",
    "    angle = 2*np.pi*(1.0+t/D)\n",
    "    center = W*(0.5+gz.polar2cart(0.1,angle))\n",
    "        \n",
    "    t3 = gz.text(chosen[2], \n",
    "                  fontfamily=\"Impact\", fontsize=20,\n",
    "                  fill=(1,1,1), xy=center)\n",
    "    t3.draw(surface)\n",
    "    \n",
    "    t4 = gz.text(chosen[3], \n",
    "                  fontfamily=\"Impact\", fontsize=30,\n",
    "                  fill=(1,1,1), xy=(x[2],y[2]))\n",
    "    t4.draw(surface)\n",
    "    \n",
    "    t5 = gz.text(\"%d\" % t, \n",
    "                  fontfamily=\"Courier New\", fontsize=10,\n",
    "                  fill=(1,1,1), xy=(10, H-20))\n",
    "    t5.draw(surface)\n",
    "    \n",
    "    return surface.get_npimage()\n",
    "\n",
    "clip = mpy.VideoClip(make_frame, duration=D)\n",
    "clip.write_gif(\"output.gif\", fps=5, opt=\"OptimizePlus\")"
   ]
  },
  {
   "cell_type": "markdown",
   "metadata": {},
   "source": [
    "![](output.gif..)"
   ]
  }
 ],
 "metadata": {
  "kernelspec": {
   "display_name": "Python 3",
   "language": "python",
   "name": "python3"
  },
  "language_info": {
   "codemirror_mode": {
    "name": "ipython",
    "version": 3
   },
   "file_extension": ".py",
   "mimetype": "text/x-python",
   "name": "python",
   "nbconvert_exporter": "python",
   "pygments_lexer": "ipython3",
   "version": "3.4.4"
  }
 },
 "nbformat": 4,
 "nbformat_minor": 0
}
