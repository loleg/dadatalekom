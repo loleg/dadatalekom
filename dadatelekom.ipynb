{
 "cells": [
  {
   "cell_type": "code",
   "execution_count": 1,
   "metadata": {
    "collapsed": false
   },
   "outputs": [],
   "source": [
    "import numpy as np\n",
    "import cairocffi as cairo\n",
    "import moviepy.editor as mpy\n",
    "import gizeh as gz\n",
    "import os, re, random"
   ]
  },
  {
   "cell_type": "code",
   "execution_count": 33,
   "metadata": {
    "collapsed": false
   },
   "outputs": [],
   "source": [
    "words = []\n",
    "regex = re.compile(r\"[^a-zA-Z \\(\\)]\")\n",
    "f = open('dadablah.txt', 'r')\n",
    "for line in f.readlines():\n",
    "    cl = line.lower().split()\n",
    "    words.extend(cl)\n",
    "bigwords = []\n",
    "for w in words:\n",
    "    w = regex.sub('', w)\n",
    "    if len(w) > 1: \n",
    "        bigwords.append(w)\n",
    "\n",
    "def npshift(seq, n):\n",
    "    return np.concatenate((seq[-n:], seq[:-n]))\n",
    "\n",
    "# Rotate array by a random shift\n",
    "bigwords = npshift(bigwords, random.randint(0, int(len(bigwords)/2)))\n",
    "#bigwords"
   ]
  },
  {
   "cell_type": "code",
   "execution_count": 3,
   "metadata": {
    "collapsed": false
   },
   "outputs": [],
   "source": [
    "# image parameters\n",
    "W,H = 320,320\n",
    "D = 20"
   ]
  },
  {
   "cell_type": "code",
   "execution_count": 37,
   "metadata": {
    "collapsed": false,
    "scrolled": true
   },
   "outputs": [
    {
     "name": "stdout",
     "output_type": "stream",
     "text": [
      "\n",
      "[MoviePy] Building file output.gif with imageio\n"
     ]
    },
    {
     "name": "stderr",
     "output_type": "stream",
     "text": [
      " 99%|█████████▉| 90/91 [00:01<00:00, 81.38it/s]\n"
     ]
    }
   ],
   "source": [
    "# load background png into an image pattern\n",
    "image_surface = cairo.ImageSurface.create_from_png(\"bg/CanvasByMinimaxDadamax.png\")\n",
    "im = 0+np.frombuffer(image_surface.get_data(), np.uint8)\n",
    "im.shape = (image_surface.get_height(), image_surface.get_width(), 4)\n",
    "im = im[:,:,[2,1,0,3]] # put RGB back in order\n",
    "gizeh_pattern = gz.ImagePattern(im)\n",
    "bg_rect = gz.rectangle(W*2, H*2, fill=gizeh_pattern)\n",
    "\n",
    "# load additional png\n",
    "random_image_file = os.path.join(\"img\", random.choice(os.listdir(\"img\")))\n",
    "random_image_file\n",
    "image_surface = cairo.ImageSurface.create_from_png(random_image_file)\n",
    "im = 0+np.frombuffer(image_surface.get_data(), np.uint8)\n",
    "im.shape = (image_surface.get_height(), image_surface.get_width(), 4)\n",
    "gizeh_pattern = gz.ImagePattern(im)\n",
    "image_1 = gz.rectangle(W*2, H*2, fill=gizeh_pattern)\n",
    "\n",
    "start_at = 0\n",
    "fr_timer = 0\n",
    "chunk_len = 4\n",
    "scenelen = 10\n",
    "\n",
    "pad = 50\n",
    "x, y = [], []\n",
    "for i in range(0, chunk_len):\n",
    "    x.append(random.randint(pad, W-pad))\n",
    "    y.append(random.randint(pad, H-pad))\n",
    "\n",
    "def make_frame(t):\n",
    "    surface = gz.Surface(W,H, bg_color=(0,0.0,0.0))\n",
    "    bg_rect.draw(surface)\n",
    "    image_1.draw(surface)\n",
    "    \n",
    "    next_frm = chunk_len * int(t / scenelen)\n",
    "    nf_from = int(t) * chunk_len\n",
    "    nf_to = nf_from + chunk_len \n",
    "    chosen = bigwords[nf_from:nf_to]\n",
    "    \n",
    "    for i in range(0, chunk_len):\n",
    "        fade = 1\n",
    "        if i == int((t * 2) % chunk_len): fade = 0.5\n",
    "            #((chunk_len - i) / chunk_len) + 1 * (t % scenelen)), \n",
    "        ti = gz.text(chosen[i], \n",
    "          fontfamily=\"Impact\", fontsize=60,\n",
    "          fill=(1, 0.9, 0.6, fade),\n",
    "          xy=(W/2,60 + i * 70))\n",
    "        ti.draw(surface)\n",
    "    \n",
    "    counter = gz.text(\"%d\" % t, \n",
    "                  fontfamily=\"Courier New\", fontsize=10,\n",
    "                  fill=(1,1,1), xy=(10, H-20))\n",
    "    counter.draw(surface)\n",
    "    \n",
    "    return surface.get_npimage()\n",
    "\n",
    "randomfps = (1 + random.randint(0, 3))\n",
    "clip = mpy.VideoClip(make_frame, duration=D)\n",
    "clip.write_gif(\"output.gif\", fps=randomfps, opt=\"OptimizePlus\")"
   ]
  },
  {
   "cell_type": "markdown",
   "metadata": {},
   "source": [
    "![](output.gif)"
   ]
  }
 ],
 "metadata": {
  "kernelspec": {
   "display_name": "Python 3",
   "language": "python",
   "name": "python3"
  },
  "language_info": {
   "codemirror_mode": {
    "name": "ipython",
    "version": 3
   },
   "file_extension": ".py",
   "mimetype": "text/x-python",
   "name": "python",
   "nbconvert_exporter": "python",
   "pygments_lexer": "ipython3",
   "version": "3.4.4"
  }
 },
 "nbformat": 4,
 "nbformat_minor": 0
}
