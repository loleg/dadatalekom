{
 "cells": [
  {
   "cell_type": "code",
   "execution_count": 1,
   "metadata": {
    "collapsed": false
   },
   "outputs": [],
   "source": [
    "import numpy as np\n",
    "import cairocffi as cairo\n",
    "import moviepy.editor as mpy\n",
    "import gizeh as gz\n",
    "import os, re, random"
   ]
  },
  {
   "cell_type": "code",
   "execution_count": 2,
   "metadata": {
    "collapsed": false
   },
   "outputs": [],
   "source": [
    "words = []\n",
    "regex = re.compile(r\"[^a-zA-Z ]\")\n",
    "f = open('dadablah.txt', 'r')\n",
    "for line in f.readlines():\n",
    "    cl = line.lower().split()\n",
    "    words.extend(cl)\n",
    "bigwords = []\n",
    "for w in words:\n",
    "    w = regex.sub('', w)\n",
    "    if len(w) > 1: \n",
    "        bigwords.append(w)\n",
    "#bigwords"
   ]
  },
  {
   "cell_type": "code",
   "execution_count": 23,
   "metadata": {
    "collapsed": false
   },
   "outputs": [
    {
     "data": {
      "text/plain": [
       "'img/Sozarch_F_5000-Zx-598.png'"
      ]
     },
     "execution_count": 23,
     "metadata": {},
     "output_type": "execute_result"
    }
   ],
   "source": [
    "# image parameters\n",
    "W,H = 320,320\n",
    "D = 5"
   ]
  },
  {
   "cell_type": "code",
   "execution_count": 89,
   "metadata": {
    "collapsed": false
   },
   "outputs": [
    {
     "name": "stdout",
     "output_type": "stream",
     "text": [
      "\n",
      "[MoviePy] Building file output.gif with imageio\n"
     ]
    },
    {
     "name": "stderr",
     "output_type": "stream",
     "text": [
      " 96%|█████████▌| 25/26 [00:00<00:00, 83.31it/s]\n"
     ]
    }
   ],
   "source": [
    "# load background png into an image pattern\n",
    "image_surface = cairo.ImageSurface.create_from_png(\"bg/CanvasByMinimaxDadamax.png\")\n",
    "im = 0+np.frombuffer(image_surface.get_data(), np.uint8)\n",
    "im.shape = (image_surface.get_height(), image_surface.get_width(), 4)\n",
    "im = im[:,:,[2,1,0,3]] # put RGB back in order\n",
    "gizeh_pattern = gz.ImagePattern(im)\n",
    "bg_rect = gz.rectangle(W*2, H*2, fill=gizeh_pattern)\n",
    "\n",
    "# load additional png\n",
    "random_image_file = os.path.join(\"img\", random.choice(os.listdir(\"img\")))\n",
    "random_image_file\n",
    "image_surface = cairo.ImageSurface.create_from_png(random_image_file)\n",
    "im = 0+np.frombuffer(image_surface.get_data(), np.uint8)\n",
    "im.shape = (image_surface.get_height(), image_surface.get_width(), 4)\n",
    "gizeh_pattern = gz.ImagePattern(im)\n",
    "image_1 = gz.rectangle(W*2, H*2, fill=gizeh_pattern)\n",
    "\n",
    "start_at = 0\n",
    "fr_timer = 0\n",
    "chunk_len = 4\n",
    "\n",
    "pad = 50\n",
    "x, y = [], []\n",
    "for i in range(0, chunk_len):\n",
    "    x.append(random.randint(pad, W-pad))\n",
    "    y.append(random.randint(pad, H-pad))\n",
    "\n",
    "def make_frame(t):\n",
    "    surface = gz.Surface(W,H, bg_color=(0,0.0,0.0))\n",
    "    bg_rect.draw(surface)\n",
    "    image_1.draw(surface)\n",
    "    \n",
    "    next_frm = chunk_len * int(t)\n",
    "    chosen = bigwords[next_frm : next_frm + chunk_len]\n",
    "    if t % 1 == 0:\n",
    "        for i in range(0, chunk_len):\n",
    "            x[i] = random.randint(pad, W-pad)\n",
    "            y[i] = random.randint(pad, H-pad)\n",
    "    \n",
    "    t1 = gz.text(chosen[0], \n",
    "                  fontfamily=\"Impact\", fontsize=50,\n",
    "                  fill=(1,1,1), angle=-(t/D)*np.pi/2).translate((x[0],y[0]))\n",
    "    \n",
    "    t2 = gz.text(chosen[1], \n",
    "                  fontfamily=\"Impact\", fontsize=60,\n",
    "                  fill=(1,1,1), xy=(y[0],x[0]))\n",
    "    \n",
    "    angle = 2*np.pi*(1.0+t/D)\n",
    "    center = W*(0.5+gz.polar2cart(0.3,angle))    \n",
    "    t3 = gz.text(chosen[2], \n",
    "                  fontfamily=\"Impact\", fontsize=70,\n",
    "                  fill=(1,0,0), xy=center)\n",
    "    \n",
    "    t4 = gz.text(chosen[3], \n",
    "                  fontfamily=\"Impact\", fontsize=90,\n",
    "                  fill=(1,0.8,0.4,t*0.2), xy=(x[2]-t*30,y[2]))\n",
    "    \n",
    "    t2.draw(surface)\n",
    "    t4.draw(surface)    \n",
    "    t3.draw(surface)\n",
    "    t1.draw(surface)\n",
    "    \n",
    "    counter = gz.text(\"%d\" % t, \n",
    "                  fontfamily=\"Courier New\", fontsize=10,\n",
    "                  fill=(1,1,1), xy=(10, H-20))\n",
    "    counter.draw(surface)\n",
    "    \n",
    "    return surface.get_npimage()\n",
    "\n",
    "clip = mpy.VideoClip(make_frame, duration=D)\n",
    "clip.write_gif(\"output.gif\", fps=5, opt=\"OptimizePlus\")"
   ]
  },
  {
   "cell_type": "markdown",
   "metadata": {},
   "source": [
    "![](output.gif..)"
   ]
  }
 ],
 "metadata": {
  "kernelspec": {
   "display_name": "Python 3",
   "language": "python",
   "name": "python3"
  },
  "language_info": {
   "codemirror_mode": {
    "name": "ipython",
    "version": 3
   },
   "file_extension": ".py",
   "mimetype": "text/x-python",
   "name": "python",
   "nbconvert_exporter": "python",
   "pygments_lexer": "ipython3",
   "version": "3.4.4"
  }
 },
 "nbformat": 4,
 "nbformat_minor": 0
}
